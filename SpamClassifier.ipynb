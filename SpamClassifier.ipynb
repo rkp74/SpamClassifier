{
  "nbformat": 4,
  "nbformat_minor": 0,
  "metadata": {
    "colab": {
      "provenance": [],
      "authorship_tag": "ABX9TyMWmBqiPYPJF5m/9S0h1UuU",
      "include_colab_link": true
    },
    "kernelspec": {
      "name": "python3",
      "display_name": "Python 3"
    },
    "language_info": {
      "name": "python"
    }
  },
  "cells": [
    {
      "cell_type": "markdown",
      "metadata": {
        "id": "view-in-github",
        "colab_type": "text"
      },
      "source": [
        "<a href=\"https://colab.research.google.com/github/rkp74/SpamClassifier/blob/main/SpamClassifier.ipynb\" target=\"_parent\"><img src=\"https://colab.research.google.com/assets/colab-badge.svg\" alt=\"Open In Colab\"/></a>"
      ]
    },
    {
      "cell_type": "code",
      "execution_count": 37,
      "metadata": {
        "id": "MbYE9Mepno-i"
      },
      "outputs": [],
      "source": [
        "import pandas as pd\n",
        "import re\n",
        "import nltk"
      ]
    },
    {
      "cell_type": "code",
      "source": [
        "import numpy as np\n",
        "np.set_printoptions(threshold = np.inf)"
      ],
      "metadata": {
        "id": "g7970Nu5s1pE"
      },
      "execution_count": 38,
      "outputs": []
    },
    {
      "cell_type": "code",
      "source": [
        "messages = pd.read_csv('SMSSpamCollection', sep = '\\t', names = [\"label\" , \"message\"])"
      ],
      "metadata": {
        "id": "_k7ySRz1o5Zy"
      },
      "execution_count": 39,
      "outputs": []
    },
    {
      "cell_type": "code",
      "source": [
        "print(messages)"
      ],
      "metadata": {
        "colab": {
          "base_uri": "https://localhost:8080/"
        },
        "id": "zLRdoxYnrXnU",
        "outputId": "de28d6a1-bf86-443d-d90f-01145e2400f4"
      },
      "execution_count": 40,
      "outputs": [
        {
          "output_type": "stream",
          "name": "stdout",
          "text": [
            "     label                                            message\n",
            "0      ham  Go until jurong point, crazy.. Available only ...\n",
            "1      ham                      Ok lar... Joking wif u oni...\n",
            "2     spam  Free entry in 2 a wkly comp to win FA Cup fina...\n",
            "3      ham  U dun say so early hor... U c already then say...\n",
            "4      ham  Nah I don't think he goes to usf, he lives aro...\n",
            "...    ...                                                ...\n",
            "5567  spam  This is the 2nd time we have tried 2 contact u...\n",
            "5568   ham               Will ü b going to esplanade fr home?\n",
            "5569   ham  Pity, * was in mood for that. So...any other s...\n",
            "5570   ham  The guy did some bitching but I acted like i'd...\n",
            "5571   ham                         Rofl. Its true to its name\n",
            "\n",
            "[5572 rows x 2 columns]\n"
          ]
        }
      ]
    },
    {
      "cell_type": "code",
      "source": [
        "print(messages.message)"
      ],
      "metadata": {
        "colab": {
          "base_uri": "https://localhost:8080/"
        },
        "id": "T1H43zyMrx9P",
        "outputId": "b1d94d70-fb38-4814-9006-da128792c938"
      },
      "execution_count": 41,
      "outputs": [
        {
          "output_type": "stream",
          "name": "stdout",
          "text": [
            "0       Go until jurong point, crazy.. Available only ...\n",
            "1                           Ok lar... Joking wif u oni...\n",
            "2       Free entry in 2 a wkly comp to win FA Cup fina...\n",
            "3       U dun say so early hor... U c already then say...\n",
            "4       Nah I don't think he goes to usf, he lives aro...\n",
            "                              ...                        \n",
            "5567    This is the 2nd time we have tried 2 contact u...\n",
            "5568                 Will ü b going to esplanade fr home?\n",
            "5569    Pity, * was in mood for that. So...any other s...\n",
            "5570    The guy did some bitching but I acted like i'd...\n",
            "5571                           Rofl. Its true to its name\n",
            "Name: message, Length: 5572, dtype: object\n"
          ]
        }
      ]
    },
    {
      "cell_type": "code",
      "source": [
        "nltk.download('stopwords')\n",
        "nltk.download('punkt')\n",
        "\n"
      ],
      "metadata": {
        "colab": {
          "base_uri": "https://localhost:8080/"
        },
        "id": "l1PuWvh3pXbY",
        "outputId": "72474fd5-705c-4ebb-f54e-35ad725d26bc"
      },
      "execution_count": 42,
      "outputs": [
        {
          "output_type": "stream",
          "name": "stderr",
          "text": [
            "[nltk_data] Downloading package stopwords to /root/nltk_data...\n",
            "[nltk_data]   Package stopwords is already up-to-date!\n",
            "[nltk_data] Downloading package punkt to /root/nltk_data...\n",
            "[nltk_data]   Package punkt is already up-to-date!\n"
          ]
        },
        {
          "output_type": "execute_result",
          "data": {
            "text/plain": [
              "True"
            ]
          },
          "metadata": {},
          "execution_count": 42
        }
      ]
    },
    {
      "cell_type": "code",
      "source": [
        "from nltk.corpus import stopwords\n",
        "from nltk.stem import WordNetLemmatizer\n",
        "from nltk.stem import PorterStemmer"
      ],
      "metadata": {
        "id": "tah8aYCaqAtJ"
      },
      "execution_count": 43,
      "outputs": []
    },
    {
      "cell_type": "code",
      "source": [
        "ps = PorterStemmer()\n",
        "wn = WordNetLemmatizer()"
      ],
      "metadata": {
        "id": "npEIW7ZrqPYY"
      },
      "execution_count": 44,
      "outputs": []
    },
    {
      "cell_type": "code",
      "source": [
        "corpus = []"
      ],
      "metadata": {
        "id": "Nzc4rCLRqWK1"
      },
      "execution_count": 45,
      "outputs": []
    },
    {
      "cell_type": "code",
      "source": [
        "for i in range(0, len(messages)):\n",
        "  review = re.sub('[^a-zA-Z]', ' ' ,messages['message'][i])\n",
        "  review = review.lower()\n",
        "  review = review.split()\n",
        "  review = [ps.stem(word) for word in review if not word in set(stopwords.words('english'))]\n",
        "  review = ' '.join(review)\n",
        "  corpus.append(review)"
      ],
      "metadata": {
        "id": "nw4mHe3yqdTg"
      },
      "execution_count": 46,
      "outputs": []
    },
    {
      "cell_type": "code",
      "source": [
        "from sklearn.feature_extraction.text import CountVectorizer\n",
        "cv = CountVectorizer(max_features= 3000)\n",
        "X = cv.fit_transform(corpus).toarray()\n",
        "feature = cv.get_feature_names_out()\n",
        "print(feature)"
      ],
      "metadata": {
        "colab": {
          "base_uri": "https://localhost:8080/"
        },
        "id": "GdpePo3MsHSv",
        "outputId": "ff9be8d6-5c64-4dc5-c50d-5177d735c474"
      },
      "execution_count": 47,
      "outputs": [
        {
          "output_type": "stream",
          "name": "stdout",
          "text": [
            "['aah' 'aathi' 'abi' 'abil' 'abiola' 'abj' 'abl' 'absolutli' 'abt' 'abta'\n",
            " 'aburo' 'abus' 'ac' 'academ' 'acc' 'accept' 'access' 'accid' 'accident'\n",
            " 'accomod' 'accordingli' 'account' 'ach' 'acl' 'aco' 'across' 'act'\n",
            " 'action' 'activ' 'actor' 'actual' 'ad' 'adam' 'add' 'addamsfa' 'addi'\n",
            " 'addict' 'address' 'admin' 'administr' 'admir' 'admit' 'ador' 'adult'\n",
            " 'advanc' 'adventur' 'advic' 'advis' 'ae' 'aeronaut' 'aeroplan' 'affair'\n",
            " 'affect' 'afraid' 'aft' 'afternoon' 'aftr' 'ag' 'agalla' 'age' 'agent'\n",
            " 'ago' 'agre' 'ah' 'aha' 'ahead' 'ahmad' 'aid' 'aight' 'aint' 'air'\n",
            " 'airport' 'airtel' 'aiya' 'aiyah' 'aiyar' 'aiyo' 'aj' 'aka' 'al'\n",
            " 'alaipayuth' 'album' 'alcohol' 'alert' 'alex' 'alfi' 'algarv' 'ali'\n",
            " 'aliv' 'allah' 'allow' 'almost' 'alon' 'along' 'alreadi' 'alright'\n",
            " 'alrit' 'also' 'although' 'alway' 'alwi' 'amaz' 'american' 'ami' 'amma'\n",
            " 'among' 'amongst' 'amount' 'amp' 'amt' 'amus' 'an' 'andr' 'andro' 'angri'\n",
            " 'anim' 'anna' 'anni' 'anniversari' 'announc' 'annoy' 'anot' 'anoth'\n",
            " 'ansr' 'answer' 'anthoni' 'anti' 'anybodi' 'anymor' 'anyon' 'anyth'\n",
            " 'anythin' 'anytim' 'anyway' 'anywher' 'aom' 'apart' 'apo' 'apolog'\n",
            " 'apologis' 'app' 'appar' 'appl' 'applebe' 'appli' 'applic' 'appoint'\n",
            " 'appreci' 'approach' 'approv' 'approx' 'appt' 'april' 'aproach' 'ar'\n",
            " 'arcad' 'ard' 'area' 'arent' 'argh' 'argu' 'argument' 'aris' 'arm'\n",
            " 'armand' 'arng' 'around' 'arrang' 'arrest' 'arriv' 'arsen' 'art' 'arun'\n",
            " 'asap' 'ashley' 'ask' 'askd' 'askin' 'asleep' 'asp' 'ass' 'assum' 'ate'\n",
            " 'atlanta' 'atlast' 'atm' 'attach' 'attempt' 'attend' 'attract' 'auction'\n",
            " 'audit' 'audrey' 'august' 'aunt' 'aunti' 'auto' 'av' 'avail' 'avatar'\n",
            " 'ave' 'avent' 'avoid' 'await' 'awak' 'award' 'away' 'awesom' 'aww' 'ayn'\n",
            " 'ba' 'babe' 'babi' 'babysit' 'back' 'bad' 'bag' 'bahama' 'bak' 'balanc'\n",
            " 'ball' 'bang' 'bank' 'bar' 'bare' 'base' 'basic' 'bat' 'batch' 'bath'\n",
            " 'batteri' 'battl' 'bay' 'bb' 'bbd' 'bc' 'bck' 'bcm' 'bcoz' 'bcum' 'bday'\n",
            " 'bear' 'beauti' 'bec' 'becom' 'becoz' 'bed' 'bedrm' 'bedroom' 'beer'\n",
            " 'befor' 'beg' 'begin' 'behav' 'behind' 'bein' 'believ' 'beliv' 'bell'\n",
            " 'belli' 'belong' 'belov' 'belovd' 'ben' 'beneath' 'beneficiari' 'benefit'\n",
            " 'best' 'bet' 'better' 'bewar' 'beyond' 'bf' 'bhaji' 'bid' 'big' 'bigger'\n",
            " 'biggest' 'bill' 'billion' 'bin' 'biola' 'bird' 'birla' 'birth'\n",
            " 'birthdat' 'birthday' 'bishan' 'bit' 'bitch' 'bite' 'biz' 'bk' 'black'\n",
            " 'blackberri' 'blah' 'blake' 'blame' 'blank' 'blanket' 'bleh' 'bless'\n",
            " 'blind' 'block' 'blog' 'bloke' 'blond' 'bloo' 'blood' 'bloodi'\n",
            " 'bloomberg' 'blow' 'blu' 'blue' 'bluetooth' 'bluff' 'blur' 'bmw' 'boat'\n",
            " 'bodi' 'bold' 'bone' 'bonu' 'boo' 'book' 'boost' 'booti' 'bootydeli'\n",
            " 'bore' 'borin' 'born' 'borrow' 'boss' 'boston' 'bother' 'bottl' 'bottom'\n",
            " 'bought' 'bout' 'bowl' 'box' 'boy' 'boyfriend' 'boytoy' 'bp' 'brah'\n",
            " 'brain' 'brand' 'brandi' 'bray' 'bread' 'break' 'breath' 'brief' 'bright'\n",
            " 'brilliant' 'bring' 'bristol' 'british' 'britney' 'bro' 'broad' 'broke'\n",
            " 'broken' 'brotha' 'brother' 'brought' 'browni' 'bruce' 'bruv' 'bslvyl'\n",
            " 'bstfrnd' 'bt' 'btw' 'bu' 'buck' 'bud' 'buddi' 'budget' 'buff' 'buffet'\n",
            " 'bugi' 'build' 'bulb' 'bun' 'burger' 'burn' 'buse' 'busi' 'butt' 'buy'\n",
            " 'buyer' 'buzi' 'buzz' 'bx' 'bye' 'cabin' 'cafe' 'cake' 'cal' 'calcul'\n",
            " 'cali' 'calicut' 'california' 'call' 'callback' 'callcost' 'calld'\n",
            " 'caller' 'callertun' 'callfreefon' 'callin' 'calm' 'cam' 'camcord' 'came'\n",
            " 'camera' 'campu' 'canada' 'canal' 'canari' 'cancel' 'cancer' 'cann'\n",
            " 'cannot' 'cant' 'capit' 'cappuccino' 'captain' 'car' 'card' 'cardiff'\n",
            " 'care' 'career' 'carli' 'carlo' 'carolin' 'carri' 'cartoon' 'case' 'cash'\n",
            " 'cashbin' 'cashto' 'cast' 'castor' 'cat' 'catch' 'caught' 'caus' 'cbe'\n",
            " 'cc' 'cd' 'cdgt' 'celeb' 'celebr' 'cell' 'center' 'centr' 'certainli'\n",
            " 'ch' 'cha' 'chain' 'challeng' 'chanc' 'chang' 'channel' 'charact' 'charg'\n",
            " 'chariti' 'charl' 'chart' 'chase' 'chat' 'cheap' 'cheaper' 'cheat'\n",
            " 'chechi' 'check' 'cheer' 'chees' 'chennai' 'cherish' 'chest' 'chg'\n",
            " 'chicken' 'chikku' 'child' 'childish' 'children' 'chill' 'chillin'\n",
            " 'china' 'chines' 'chip' 'chocol' 'choic' 'choos' 'chosen' 'christ'\n",
            " 'christma' 'church' 'cine' 'cinema' 'citi' 'citizen' 'claim' 'clair'\n",
            " 'clark' 'class' 'cld' 'clean' 'clear' 'clearli' 'clever' 'click' 'clo'\n",
            " 'clock' 'close' 'closer' 'cloth' 'club' 'cm' 'cn' 'co' 'cock' 'code'\n",
            " 'coffe' 'coin' 'cold' 'colleagu' 'collect' 'colleg' 'colour' 'com'\n",
            " 'combin' 'come' 'comedi' 'comin' 'common' 'commun' 'comp' 'compani'\n",
            " 'competit' 'complet' 'complimentari' 'comput' 'comuk' 'concentr'\n",
            " 'concert' 'condit' 'confid' 'confirm' 'confus' 'congrat' 'congratul'\n",
            " 'connect' 'consid' 'constantli' 'contact' 'content' 'continu' 'contract'\n",
            " 'convey' 'convinc' 'cook' 'cool' 'cope' 'copi' 'cornwal' 'correct' 'cost'\n",
            " 'costa' 'costum' 'cough' 'could' 'count' 'countin' 'countri' 'coupl'\n",
            " 'courag' 'cours' 'cousin' 'cover' 'coz' 'cr' 'crab' 'crack' 'cramp'\n",
            " 'crap' 'crash' 'crave' 'crazi' 'craziest' 'cream' 'creat' 'creativ'\n",
            " 'credit' 'creep' 'creepi' 'cri' 'cricket' 'crisi' 'crore' 'cross'\n",
            " 'croydon' 'cruis' 'cs' 'csbcm' 'cud' 'cuddl' 'cum' 'cup' 'current' 'cust'\n",
            " 'custcar' 'custom' 'cut' 'cute' 'cutefrnd' 'cuz' 'cw' 'da' 'dad' 'daddi'\n",
            " 'dai' 'daili' 'damn' 'dan' 'danc' 'danger' 'dare' 'dark' 'darl' 'darlin'\n",
            " 'darren' 'dat' 'date' 'datebox' 'datz' 'dave' 'day' 'dbuk' 'de' 'dead'\n",
            " 'deal' 'dealer' 'dear' 'dearer' 'dearli' 'death' 'decemb' 'decid' 'decim'\n",
            " 'decis' 'deck' 'dedic' 'deep' 'deepak' 'deeraj' 'def' 'defeat' 'definit'\n",
            " 'del' 'delay' 'delet' 'deliv' 'deliveredtomorrow' 'deliveri' 'dem' 'den'\n",
            " 'deni' 'depend' 'depress' 'derek' 'desert' 'desir' 'despar' 'desper'\n",
            " 'despit' 'detail' 'determin' 'detroit' 'deu' 'develop' 'devour' 'dey'\n",
            " 'di' 'diamond' 'dick' 'dictionari' 'didnt' 'die' 'diet' 'diff' 'differ'\n",
            " 'difficult' 'dificult' 'digit' 'digniti' 'din' 'dine' 'dinner' 'dint'\n",
            " 'direct' 'directli' 'dirti' 'disconnect' 'discount' 'discuss' 'dislik'\n",
            " 'display' 'distanc' 'disturb' 'dload' 'dnt' 'doc' 'doctor' 'doesnt' 'dog'\n",
            " 'doggi' 'doin' 'dokey' 'doll' 'dollar' 'donat' 'done' 'donno' 'dont'\n",
            " 'door' 'dot' 'doubl' 'doubt' 'dough' 'download' 'dr' 'dracula' 'draw'\n",
            " 'dream' 'dress' 'dresser' 'dri' 'drink' 'drive' 'driver' 'drivin' 'drm'\n",
            " 'drop' 'drove' 'drpd' 'drug' 'drunk' 'dsn' 'dubsack' 'dude' 'due' 'dun'\n",
            " 'dunno' 'dvd' 'ear' 'earli' 'earlier' 'earn' 'earth' 'easi' 'easier'\n",
            " 'easili' 'east' 'eastend' 'easter' 'eat' 'eaten' 'eatin' 'ebay' 'ec'\n",
            " 'edg' 'edison' 'edu' 'educ' 'edward' 'ee' 'eek' 'eeri' 'effect' 'eg'\n",
            " 'egg' 'eh' 'eight' 'eighth' 'eir' 'either' 'ela' 'elabor' 'elain' 'els'\n",
            " 'elsewher' 'em' 'email' 'embarass' 'empti' 'end' 'enemi' 'energi' 'eng'\n",
            " 'england' 'english' 'enjoy' 'enough' 'enter' 'entitl' 'entri' 'enuff'\n",
            " 'envelop' 'er' 'erm' 'error' 'escap' 'ese' 'especi' 'esplanad' 'essenti'\n",
            " 'etc' 'euro' 'eve' 'even' 'event' 'ever' 'everi' 'everybodi' 'everyon'\n",
            " 'everyth' 'evn' 'evng' 'evri' 'ex' 'exact' 'exactli' 'exam' 'excel'\n",
            " 'except' 'excit' 'excus' 'exe' 'execut' 'exhaust' 'expect' 'expens'\n",
            " 'experi' 'expir' 'explain' 'express' 'extra' 'eye' 'fa' 'face' 'facebook'\n",
            " 'fact' 'fail' 'fair' 'fall' 'famili' 'fan' 'fanci' 'fantasi' 'fantast'\n",
            " 'far' 'farm' 'fast' 'faster' 'fat' 'father' 'fathima' 'fault' 'fave'\n",
            " 'favor' 'favour' 'favourit' 'fb' 'fear' 'feb' 'februari' 'fee' 'feel'\n",
            " 'feelin' 'feet' 'fell' 'felt' 'femal' 'fetch' 'fever' 'field' 'fifteen'\n",
            " 'fight' 'fightng' 'figur' 'fil' 'file' 'fill' 'film' 'filthi' 'final'\n",
            " 'financ' 'find' 'fine' 'finger' 'finish' 'fire' 'first' 'fish' 'fit'\n",
            " 'five' 'fix' 'fixedlin' 'fl' 'flag' 'flake' 'flaki' 'flame' 'flash'\n",
            " 'flat' 'fli' 'flight' 'flirt' 'floor' 'flow' 'flower' 'fml' 'follow'\n",
            " 'fone' 'food' 'fool' 'footbal' 'footprint' 'forc' 'foreign' 'forev'\n",
            " 'forevr' 'forget' 'forgot' 'form' 'format' 'forum' 'forward' 'found'\n",
            " 'four' 'fr' 'fran' 'fraud' 'freak' 'free' 'freedom' 'freefon' 'freemsg'\n",
            " 'freephon' 'freez' 'fren' 'fret' 'fri' 'friday' 'friend' 'friendship'\n",
            " 'fring' 'frm' 'frnd' 'frndship' 'frog' 'fromm' 'front' 'fuck' 'fuckin'\n",
            " 'ful' 'full' 'fullonsm' 'fun' 'funer' 'funk' 'funki' 'funni' 'furnitur'\n",
            " 'futur' 'fwd' 'fyi' 'ga' 'gain' 'gal' 'galileo' 'game' 'gamestar'\n",
            " 'ganesh' 'gang' 'gap' 'garag' 'garden' 'gari' 'gautham' 'gave' 'gay' 'gb'\n",
            " 'gbp' 'gd' 'ge' 'gee' 'geeee' 'gener' 'gentl' 'gentleman' 'gentli'\n",
            " 'genuin' 'germani' 'get' 'gettin' 'getz' 'gift' 'gimm' 'girl' 'girlfrnd'\n",
            " 'giv' 'give' 'given' 'glad' 'gm' 'gn' 'go' 'goal' 'god' 'goe' 'goin'\n",
            " 'gona' 'gone' 'gonna' 'good' 'goodmorn' 'goodnight' 'goodnit' 'googl'\n",
            " 'gorgeou' 'gossip' 'got' 'goto' 'gotta' 'govt' 'gr' 'grahmbel' 'gram'\n",
            " 'grand' 'graviti' 'great' 'greatest' 'green' 'greet' 'grin' 'grl'\n",
            " 'groovi' 'ground' 'group' 'grow' 'gt' 'gthr' 'guarante' 'gud' 'gudnit'\n",
            " 'guess' 'guid' 'guilti' 'guy' 'gym' 'ha' 'haf' 'haha' 'hahaha' 'hai'\n",
            " 'hair' 'haiz' 'half' 'halloween' 'ham' 'hand' 'handl' 'handset' 'hang'\n",
            " 'happen' 'happend' 'happi' 'happili' 'hard' 'hardcor' 'hardli' 'harri'\n",
            " 'hate' 'hav' 'havent' 'havin' 'havnt' 'hb' 'he' 'head' 'headach' 'headin'\n",
            " 'hear' 'heard' 'heart' 'heater' 'heavi' 'hee' 'height' 'held' 'helen'\n",
            " 'hell' 'hella' 'hello' 'help' 'henri' 'hero' 'hesit' 'hex' 'hey' 'hg'\n",
            " 'hi' 'hide' 'high' 'hill' 'hint' 'hip' 'histori' 'hit' 'hiya' 'hl' 'hmm'\n",
            " 'hmmm' 'hmv' 'ho' 'hol' 'hold' 'holder' 'holiday' 'holla' 'home'\n",
            " 'homeown' 'hon' 'honey' 'honeybe' 'hook' 'hop' 'hope' 'horni' 'horribl'\n",
            " 'hospit' 'hostel' 'hot' 'hotel' 'hour' 'hous' 'housew' 'how' 'howard'\n",
            " 'howev' 'howz' 'hp' 'hppnss' 'hr' 'hrishi' 'hsbc' 'http' 'hubbi' 'hug'\n",
            " 'huge' 'huh' 'human' 'hun' 'hundr' 'hungri' 'hunni' 'hunt' 'hurri' 'hurt'\n",
            " 'husband' 'hv' 'hw' 'hyde' 'ia' 'iam' 'ibh' 'ibhltd' 'ibiza' 'ibn' 'ic'\n",
            " 'ice' 'icicibank' 'id' 'idea' 'ideal' 'identifi' 'idew' 'idiot' 'idk'\n",
            " 'ignor' 'ikea' 'il' 'ill' 'im' 'imag' 'imagin' 'imma' 'immedi' 'imp'\n",
            " 'impati' 'import' 'imposs' 'impress' 'improv' 'inc' 'inch' 'incid'\n",
            " 'includ' 'inclus' 'inconsider' 'inconveni' 'incred' 'increment' 'inde'\n",
            " 'independ' 'india' 'indian' 'infern' 'info' 'inform' 'inning' 'insha'\n",
            " 'insid' 'instal' 'instantli' 'instead' 'instituit' 'instruct' 'insur'\n",
            " 'intellig' 'interest' 'internet' 'interview' 'intro' 'invit' 'invnt'\n",
            " 'iouri' 'ip' 'ipad' 'ipod' 'iq' 'irrit' 'iscom' 'ish' 'island' 'isnt'\n",
            " 'issu' 'italian' 'itz' 'ive' 'iz' 'izzit' 'ja' 'jada' 'jame' 'jamster'\n",
            " 'jan' 'jane' 'januari' 'jason' 'java' 'jay' 'jazz' 'jealou' 'jen' 'jess'\n",
            " 'jesu' 'jhl' 'jiu' 'jo' 'job' 'jog' 'john' 'join' 'joke' 'jordan'\n",
            " 'journey' 'joy' 'jst' 'jstfrnd' 'ju' 'juici' 'juli' 'june' 'juz' 'kadeem'\n",
            " 'kaiez' 'kalli' 'kano' 'kappa' 'karaok' 'kate' 'kavalan' 'kay' 'kb' 'ke'\n",
            " 'keep' 'kegger' 'kent' 'kept' 'kerala' 'keralacircl' 'kettoda' 'key' 'kg'\n",
            " 'kick' 'kickoff' 'kid' 'kidz' 'kill' 'kind' 'kinda' 'kindli' 'king'\n",
            " 'kiosk' 'kiss' 'kl' 'knacker' 'knee' 'knew' 'knock' 'know' 'knw' 'konw'\n",
            " 'kothi' 'kr' 'kudi' 'kusruthi' 'kz' 'la' 'lab' 'lac' 'ladi' 'lag' 'laid'\n",
            " 'land' 'landlin' 'lane' 'langport' 'languag' 'laptop' 'lar' 'largest'\n",
            " 'last' 'late' 'later' 'latest' 'latr' 'laugh' 'laundri' 'law' 'lay'\n",
            " 'lazi' 'lccltd' 'ldew' 'ldn' 'ldnw' 'le' 'lead' 'learn' 'least' 'leav'\n",
            " 'lect' 'lectur' 'left' 'leg' 'legal' 'leh' 'lei' 'lemm' 'length' 'leona'\n",
            " 'less' 'lesson' 'let' 'letter' 'lf' 'liao' 'lib' 'librari' 'lick' 'lido'\n",
            " 'lie' 'life' 'lifetim' 'lifpartnr' 'lift' 'light' 'lik' 'like' 'lil'\n",
            " 'lili' 'limit' 'line' 'linerent' 'link' 'lion' 'lionm' 'lionp' 'lip'\n",
            " 'list' 'listen' 'liter' 'littl' 'live' 'liverpool' 'lk' 'lmao' 'lo'\n",
            " 'load' 'loan' 'local' 'locat' 'lock' 'lodg' 'log' 'login' 'logo' 'lol'\n",
            " 'london' 'lone' 'long' 'longer' 'look' 'lookatm' 'lookin' 'loos' 'lor'\n",
            " 'lose' 'loss' 'lost' 'lot' 'lotr' 'lotta' 'lou' 'loud' 'loung' 'lousi'\n",
            " 'lov' 'lovabl' 'love' 'lovejen' 'lovem' 'lover' 'loverboy' 'lovingli'\n",
            " 'low' 'lower' 'loxahatche' 'loyal' 'loyalti' 'lp' 'ls' 'lst' 'lt' 'ltd'\n",
            " 'lttr' 'luci' 'luck' 'lucki' 'lucozad' 'lunch' 'lush' 'luv' 'lux'\n",
            " 'luxuri' 'lv' 'lvblefrnd' 'lyf' 'lyfu' 'lyk' 'ma' 'maangalyam' 'mac'\n",
            " 'machan' 'macho' 'mad' 'madam' 'made' 'mag' 'maga' 'magic' 'mah' 'mahal'\n",
            " 'maid' 'mail' 'mailbox' 'main' 'maintain' 'major' 'make' 'makin'\n",
            " 'malaria' 'male' 'mall' 'man' 'manag' 'manda' 'mandan' 'maneesha' 'mani'\n",
            " 'map' 'march' 'margaret' 'mark' 'market' 'marri' 'marriag' 'marrow'\n",
            " 'massag' 'massiv' 'master' 'match' 'mate' 'math' 'mathemat' 'matrix'\n",
            " 'matter' 'matur' 'max' 'maxim' 'may' 'mayb' 'mb' 'mca' 'mcat' 'meal'\n",
            " 'mean' 'meant' 'meanwhil' 'measur' 'med' 'medic' 'medicin' 'meet'\n",
            " 'meetin' 'mega' 'meh' 'mei' 'mel' 'mell' 'melt' 'member' 'membership'\n",
            " 'memori' 'men' 'mental' 'mention' 'menu' 'meow' 'merri' 'mesag' 'mess'\n",
            " 'messag' 'messeng' 'messi' 'met' 'mi' 'mid' 'middl' 'midnight' 'might'\n",
            " 'mila' 'mile' 'milk' 'million' 'min' 'mind' 'mine' 'mini' 'minimum'\n",
            " 'minmobsmorelkpobox' 'minmoremobsemspobox' 'minnaminungint' 'minor'\n",
            " 'minut' 'miracl' 'misbehav' 'miser' 'miss' 'missin' 'mistak' 'mite'\n",
            " 'mitsak' 'mix' 'mk' 'ml' 'mm' 'mmm' 'mmmm' 'mmmmm' 'mmmmmm' 'mnth' 'mo'\n",
            " 'moan' 'mob' 'mobi' 'mobil' 'mobilesdirect' 'mobilesvari' 'mobileupd'\n",
            " 'mobno' 'mode' 'model' 'modul' 'moji' 'mojibiola' 'mokka' 'mom' 'moment'\n",
            " 'mon' 'monday' 'money' 'monkey' 'mono' 'month' 'monthli' 'mood' 'moon'\n",
            " 'moral' 'morefrmmob' 'morn' 'mornin' 'moro' 'morow' 'morphin' 'morro'\n",
            " 'morrow' 'mostli' 'mother' 'motiv' 'motorola' 'mountain' 'mouth' 'move'\n",
            " 'movi' 'movietrivia' 'mp' 'mr' 'mrng' 'mrt' 'mrw' 'ms' 'msg' 'msging'\n",
            " 'msgrcvd' 'msgrcvdhg' 'msn' 'mt' 'mtalk' 'mth' 'mtmsg' 'mtmsgrcvd' 'mu'\n",
            " 'muah' 'much' 'mum' 'mummi' 'mumtaz' 'munster' 'murder' 'music' 'must'\n",
            " 'musthu' 'muz' 'mysteri' 'na' 'nag' 'nagar' 'nah' 'nahi' 'nake' 'nalla'\n",
            " 'name' 'nan' 'nanni' 'nap' 'nasdaq' 'nasti' 'nat' 'natali' 'natalja'\n",
            " 'nation' 'natur' 'naughti' 'nb' 'nd' 'ne' 'near' 'nearli' 'necessari'\n",
            " 'necessarili' 'neck' 'necklac' 'ned' 'need' 'neft' 'neighbor' 'neighbour'\n",
            " 'neither' 'nervou' 'net' 'netcollex' 'network' 'neva' 'never' 'new'\n",
            " 'neway' 'newest' 'news' 'next' 'ni' 'nic' 'nice' 'nichol' 'nigeria'\n",
            " 'night' 'nimya' 'nit' 'nite' 'nitro' 'no' 'nobodi' 'noe' 'nok' 'nokia'\n",
            " 'nolin' 'none' 'noon' 'nope' 'norm' 'normal' 'northampton' 'note' 'noth'\n",
            " 'nothin' 'notic' 'notxt' 'noun' 'nowaday' 'nt' 'ntt' 'ntwk' 'nu' 'num'\n",
            " 'number' 'nurungu' 'nuther' 'nvm' 'nw' 'nxt' 'ny' 'nyc' 'nydc' 'nyt'\n",
            " 'obvious' 'occupi' 'occur' 'odi' 'offer' 'offic' 'offici' 'ofic' 'often'\n",
            " 'oh' 'oi' 'oic' 'oil' 'ok' 'okay' 'okey' 'oki' 'ola' 'old' 'omg' 'omw'\n",
            " 'one' 'oni' 'onion' 'onlin' 'onto' 'onward' 'oooh' 'oop' 'open' 'oper'\n",
            " 'opinion' 'opportun' 'opt' 'option' 'optout' 'orang' 'orchard' 'order'\n",
            " 'oredi' 'oreo' 'orig' 'origin' 'oru' 'os' 'oso' 'other' 'otherwis'\n",
            " 'otsid' 'outag' 'outsid' 'outstand' 'outta' 'ovul' 'ow' 'owe' 'own' 'oz'\n",
            " 'pa' 'pack' 'packag' 'page' 'paid' 'pain' 'paint' 'pale' 'pan' 'pandi'\n",
            " 'panic' 'pap' 'paper' 'paperwork' 'paragon' 'parco' 'parent' 'pari'\n",
            " 'park' 'part' 'parti' 'partner' 'partnership' 'pass' 'passion' 'password'\n",
            " 'past' 'path' 'pattern' 'patti' 'pay' 'paye' 'payment' 'payoh' 'pc'\n",
            " 'peac' 'peak' 'pee' 'pen' 'penc' 'pend' 'peni' 'peopl' 'per' 'percent'\n",
            " 'perfect' 'perform' 'perhap' 'period' 'permiss' 'person' 'perwksub'\n",
            " 'pete' 'petey' 'petrol' 'pg' 'ph' 'philosophi' 'phne' 'phoenix' 'phone'\n",
            " 'photo' 'php' 'pic' 'pick' 'pickl' 'picsfre' 'pictur' 'pie' 'piec' 'pig'\n",
            " 'pilat' 'pimpl' 'pin' 'pink' 'piss' 'pix' 'pizza' 'pl' 'place'\n",
            " 'placement' 'plan' 'plane' 'planet' 'play' 'player' 'plaza' 'pleas'\n",
            " 'pleasur' 'plenti' 'plm' 'plu' 'plz' 'pm' 'po' 'pobox' 'pocketbab' 'pod'\n",
            " 'poem' 'point' 'poker' 'pole' 'poli' 'polic' 'politician' 'polo' 'polyh'\n",
            " 'polyph' 'polyphon' 'pongal' 'pool' 'poop' 'poor' 'pop' 'popcorn' 'porn'\n",
            " 'posit' 'possess' 'possibl' 'post' 'postcard' 'postcod' 'potato'\n",
            " 'potenti' 'potter' 'pouch' 'pound' 'pour' 'pout' 'power' 'pp'\n",
            " 'ppermesssubscript' 'ppl' 'pple' 'ppm' 'ppmx' 'ppw' 'prabha' 'practic'\n",
            " 'pray' 'pre' 'predict' 'prefer' 'prem' 'premier' 'premium' 'prepaid'\n",
            " 'prepar' 'prepay' 'prescript' 'present' 'press' 'pretti' 'previou'\n",
            " 'previous' 'prey' 'price' 'pride' 'princ' 'princess' 'print' 'priscilla'\n",
            " 'privaci' 'privat' 'prize' 'pro' 'prob' 'probabl' 'problem' 'process'\n",
            " 'prof' 'professor' 'profil' 'profit' 'program' 'project' 'prolli'\n",
            " 'promis' 'promo' 'promot' 'prompt' 'proof' 'properli' 'properti' 'propos'\n",
            " 'propsd' 'prospect' 'protect' 'prove' 'proverb' 'provid' 'ps' 'pt' 'ptbo'\n",
            " 'pub' 'public' 'pull' 'punish' 'purchas' 'puriti' 'purpos' 'purs' 'push'\n",
            " 'pussi' 'put' 'puttin' 'pw' 'px' 'qatar' 'qp' 'qu' 'qualiti' 'que'\n",
            " 'queen' 'question' 'quick' 'quickli' 'quiet' 'quit' 'quiz' 'quot' 'qxj'\n",
            " 'ra' 'race' 'radio' 'rael' 'railway' 'rain' 'rais' 'raj' 'raji' 'rakhesh'\n",
            " 'ralli' 'ran' 'randi' 'random' 'randomli' 'rang' 'ranjith' 'rate'\n",
            " 'rather' 'ray' 'rcv' 'rcvd' 'rd' 'reach' 'reaction' 'read' 'reader'\n",
            " 'readi' 'real' 'reali' 'realis' 'realiti' 'realiz' 'realli' 'reason'\n",
            " 'reassur' 'reboot' 'rec' 'recd' 'receipt' 'receiv' 'receivea' 'recent'\n",
            " 'recess' 'recharg' 'reckon' 'recognis' 'record' 'recoveri' 'red' 'redeem'\n",
            " 'reduc' 'ref' 'refer' 'refil' 'refund' 'refus' 'reg' 'regard' 'regist'\n",
            " 'regret' 'regular' 'rel' 'relat' 'relax' 'releas' 'rem' 'remain' 'rememb'\n",
            " 'remembr' 'remind' 'remov' 'renew' 'rent' 'rental' 'rentl' 'repair'\n",
            " 'repeat' 'replac' 'repli' 'report' 'repres' 'request' 'requir' 'research'\n",
            " 'reserv' 'respect' 'responc' 'respond' 'respons' 'rest' 'restaur'\n",
            " 'restock' 'restrict' 'result' 'resum' 'retriev' 'return' 'reveal'\n",
            " 'revers' 'review' 'revis' 'reward' 'rg' 'rgd' 'rhythm' 'rice' 'rich'\n",
            " 'ride' 'right' 'rightli' 'ring' 'rington' 'ringtonek' 'rip' 'risk' 'rite'\n",
            " 'river' 'road' 'roast' 'rob' 'rock' 'rofl' 'roger' 'role' 'romant' 'ron'\n",
            " 'room' 'roommat' 'rose' 'round' 'row' 'royal' 'rpli' 'rr' 'rs' 'rstm'\n",
            " 'ru' 'rub' 'rude' 'ruin' 'rule' 'rum' 'rumour' 'run' 'rush' 'rw' 'ryan'\n",
            " 'sac' 'sachin' 'sack' 'sacrific' 'sad' 'sae' 'safe' 'said' 'sake' 'salam'\n",
            " 'salari' 'sale' 'salon' 'sam' 'santa' 'sar' 'sarasota' 'sarcasm'\n",
            " 'sarcast' 'sari' 'sat' 'sathya' 'satisfi' 'saturday' 'sauci' 'savamob'\n",
            " 'save' 'saw' 'say' 'scare' 'scari' 'sch' 'schedul' 'school' 'scienc'\n",
            " 'scold' 'score' 'scotch' 'scotland' 'scotsman' 'scratch' 'scream'\n",
            " 'screen' 'scroung' 'sd' 'se' 'sea' 'search' 'season' 'seat' 'sec'\n",
            " 'second' 'secret' 'secretari' 'secretli' 'section' 'secur' 'sed' 'see'\n",
            " 'seed' 'seem' 'seen' 'select' 'self' 'selfish' 'sell' 'sem' 'semest'\n",
            " 'sen' 'send' 'sender' 'sens' 'sensit' 'sent' 'sentenc' 'senthil' 'sept'\n",
            " 'seri' 'seriou' 'serious' 'serv' 'servic' 'set' 'settl' 'seven' 'sever'\n",
            " 'sex' 'sexi' 'sh' 'sha' 'shag' 'shahjahan' 'shake' 'shall' 'shame'\n",
            " 'shampain' 'share' 'shd' 'sheet' 'sheffield' 'shelf' 'shesil' 'shi'\n",
            " 'shija' 'shine' 'ship' 'shirt' 'shit' 'shitload' 'shld' 'shock' 'shoe'\n",
            " 'shoot' 'shop' 'shoppin' 'shore' 'short' 'shortag' 'shorter' 'shortli'\n",
            " 'shot' 'shout' 'shove' 'show' 'shower' 'shracomorsglsuplt' 'shu' 'shuhui'\n",
            " 'shut' 'si' 'sian' 'sib' 'sick' 'side' 'sigh' 'sight' 'sign' 'signific'\n",
            " 'silenc' 'silent' 'silver' 'sim' 'simpl' 'simpler' 'simpli' 'sinc'\n",
            " 'sinco' 'sing' 'singl' 'sip' 'sipix' 'sir' 'sister' 'sit' 'site' 'sitll'\n",
            " 'situat' 'siva' 'six' 'size' 'sk' 'skilgm' 'skillgam' 'skip' 'sky'\n",
            " 'skype' 'slap' 'slave' 'sleep' 'sleepi' 'sleepin' 'sleepwel' 'slept'\n",
            " 'slice' 'slide' 'slightli' 'slip' 'slipper' 'slo' 'slot' 'slow' 'slowli'\n",
            " 'slp' 'sm' 'small' 'smart' 'smash' 'smell' 'smeon' 'smile' 'smith'\n",
            " 'smoke' 'smsco' 'smth' 'sn' 'snake' 'snow' 'social' 'sofa' 'soft'\n",
            " 'softwar' 'sol' 'solv' 'somebodi' 'someon' 'someth' 'somethin' 'sometim'\n",
            " 'somewher' 'song' 'soni' 'sonyericsson' 'soon' 'sooner' 'sore' 'sori'\n",
            " 'sorri' 'sorrow' 'sort' 'soryda' 'sound' 'soup' 'sourc' 'south' 'sp'\n",
            " 'space' 'spanish' 'spare' 'speak' 'special' 'specialis' 'specif'\n",
            " 'speechless' 'speed' 'speedchat' 'spell' 'spend' 'spent' 'spider' 'spile'\n",
            " 'spk' 'spl' 'splle' 'spoil' 'spoke' 'spoken' 'spook' 'spoon' 'sport'\n",
            " 'spree' 'spring' 'sptv' 'sri' 'ss' 'st' 'staff' 'stamp' 'stand'\n",
            " 'standard' 'star' 'start' 'starwar' 'statement' 'station' 'stay' 'std'\n",
            " 'steal' 'steam' 'step' 'steve' 'still' 'stock' 'stockport' 'stomach'\n",
            " 'stomp' 'stone' 'stop' 'stopsm' 'stoptxt' 'store' 'stori' 'storm' 'str'\n",
            " 'straight' 'strang' 'stranger' 'street' 'stress' 'stretch' 'strike'\n",
            " 'strip' 'strong' 'stuck' 'student' 'studi' 'stuf' 'stuff' 'stupid'\n",
            " 'style' 'stylish' 'sub' 'submit' 'subpoli' 'subscrib' 'subscript'\n",
            " 'success' 'suck' 'sucker' 'sue' 'suffer' 'suffici' 'sugar' 'suggest'\n",
            " 'suit' 'sum' 'summer' 'sun' 'sunday' 'sunni' 'sunshin' 'suntec' 'sup'\n",
            " 'super' 'supervisor' 'suppli' 'support' 'suppos' 'suprman' 'sura' 'sure'\n",
            " 'surf' 'surpris' 'sw' 'sweet' 'sweetest' 'swim' 'swing' 'swiss' 'switch'\n",
            " 'swoop' 'swt' 'swtheart' 'symbol' 'system' 'ta' 'tabl' 'tablet' 'taco'\n",
            " 'tag' 'tahan' 'take' 'taken' 'takin' 'talent' 'talk' 'tampa' 'tank' 'tap'\n",
            " 'tape' 'tariff' 'tast' 'tat' 'taunton' 'taylor' 'tb' 'tc' 'tcr' 'tea'\n",
            " 'teach' 'teacher' 'team' 'tear' 'teas' 'technic' 'tee' 'teeth' 'tel'\n",
            " 'telephon' 'tell' 'telli' 'telphon' 'telugu' 'temp' 'templ' 'ten'\n",
            " 'tenant' 'tenerif' 'tension' 'term' 'terribl' 'terrif' 'terrorist'\n",
            " 'tessi' 'test' 'text' 'textbuddi' 'textcomp' 'textoper' 'textpod' 'tf'\n",
            " 'th' 'thangam' 'thank' 'thanksgiv' 'thanx' 'that' 'theatr' 'themob'\n",
            " 'theori' 'thing' 'think' 'thinkin' 'thk' 'thm' 'thnk' 'tho' 'though'\n",
            " 'thought' 'threat' 'three' 'throat' 'throw' 'thru' 'tht' 'thur'\n",
            " 'thursday' 'ti' 'tick' 'ticket' 'tih' 'til' 'till' 'time' 'tire'\n",
            " 'tirunelvali' 'tirupur' 'tissco' 'titl' 'tiwari' 'tkt' 'tlk' 'tlp' 'tm'\n",
            " 'tmr' 'tmrw' 'tnc' 'toa' 'toclaim' 'today' 'tog' 'togeth' 'told' 'toll'\n",
            " 'tom' 'tomarrow' 'tomeandsaid' 'tomo' 'tomorro' 'tomorrow' 'ton' 'tone'\n",
            " 'tonight' 'tonit' 'took' 'tooth' 'top' 'topic' 'torch' 'tot' 'total'\n",
            " 'touch' 'tough' 'tour' 'toward' 'town' 'tr' 'track' 'train' 'transact'\n",
            " 'transfer' 'transfr' 'travel' 'treat' 'tree' 'tri' 'trip' 'troubl' 'true'\n",
            " 'truli' 'trust' 'truth' 'ts' 'tsandc' 'tsc' 'tsunami' 'tt' 'ttyl' 'tue'\n",
            " 'tuesday' 'tuition' 'tulip' 'turn' 'tv' 'twelv' 'twenti' 'twice'\n",
            " 'twilight' 'two' 'txt' 'txtauction' 'txtin' 'txting' 'tyler' 'type'\n",
            " 'tyron' 'ubi' 'ugh' 'uk' 'umma' 'ummmmmaah' 'un' 'unabl' 'unbeliev'\n",
            " 'unbreak' 'uncl' 'unconsci' 'understand' 'understood' 'underwear'\n",
            " 'unemploy' 'unfortun' 'unhappi' 'uni' 'unintent' 'uniqu' 'unit' 'univers'\n",
            " 'unless' 'unlimit' 'unredeem' 'unsold' 'unsub' 'unsubscrib' 'updat'\n",
            " 'upgrad' 'upload' 'upset' 'upto' 'ur' 'urawinn' 'ure' 'urgent' 'urgnt'\n",
            " 'url' 'urn' 'urself' 'us' 'usc' 'use' 'user' 'usf' 'usual' 'utter' 'uz'\n",
            " 'vaazhthukk' 'vagu' 'vale' 'valentin' 'valid' 'valu' 'valuabl' 'vari'\n",
            " 'variou' 'vava' 'vday' 'vega' 'veget' 'verifi' 'version' 'vettam' 'vewi'\n",
            " 'via' 'vibrat' 'vid' 'video' 'videochat' 'videophon' 'videosound' 'vijay'\n",
            " 'vikki' 'villag' 'violat' 'violenc' 'violet' 'vip' 'virgin' 'visionsm'\n",
            " 'visit' 'visitor' 'viva' 'vivek' 'vl' 'voda' 'vodafon' 'vodka' 'voic'\n",
            " 'voicemail' 'vomit' 'vote' 'voucher' 'vri' 'vth' 'vu' 'wa' 'wah' 'wahe'\n",
            " 'waht' 'wait' 'waitin' 'wake' 'wale' 'walk' 'wall' 'wallpap' 'walmart'\n",
            " 'wan' 'wana' 'wanna' 'want' 'wap' 'warm' 'warn' 'warner' 'warranti'\n",
            " 'wast' 'wat' 'watch' 'wate' 'water' 'watev' 'wave' 'waxsto' 'way' 'wb'\n",
            " 'wc' 'weak' 'wear' 'weasel' 'weather' 'web' 'websit' 'wed' 'wednesday'\n",
            " 'wee' 'weed' 'week' 'weekend' 'weekli' 'weigh' 'weight' 'weird'\n",
            " 'weirdest' 'welcom' 'well' 'welp' 'wen' 'went' 'wer' 'wesley' 'west'\n",
            " 'westlif' 'wet' 'what' 'whatev' 'whatsup' 'whenev' 'whenevr' 'wherev'\n",
            " 'whether' 'white' 'whn' 'who' 'whole' 'whose' 'whr' 'wicklow' 'wid'\n",
            " 'widel' 'wif' 'wife' 'wifi' 'wihtuot' 'wil' 'will' 'win' 'winaweek'\n",
            " 'winawk' 'wind' 'window' 'wine' 'winner' 'wipro' 'wisdom' 'wise' 'wish'\n",
            " 'wishin' 'wiskey' 'wit' 'within' 'without' 'wiv' 'wk' 'wkend' 'wkent'\n",
            " 'wkg' 'wkli' 'wld' 'wml' 'wn' 'wnt' 'wo' 'woke' 'woken' 'woman' 'women'\n",
            " 'wonder' 'wont' 'woot' 'word' 'work' 'workin' 'world' 'worri' 'wors'\n",
            " 'worst' 'worth' 'wot' 'would' 'woulda' 'wow' 'wp' 'wq' 'wrc' 'wrench'\n",
            " 'write' 'wrk' 'wrnog' 'wrong' 'wrote' 'ws' 'wt' 'wtf' 'wu' 'wud' 'wuld'\n",
            " 'wun' 'www' 'wx' 'wyli' 'xam' 'xavier' 'xchat' 'xh' 'xin' 'xma' 'xn'\n",
            " 'xuhui' 'xx' 'xxx' 'xxxmobilemovieclub' 'xxxx' 'xxxxx' 'xxxxxx' 'xxxxxxx'\n",
            " 'xxxxxxxxx' 'xy' 'ya' 'yahoo' 'yan' 'yar' 'yarasu' 'yay' 'yck' 'ye'\n",
            " 'yeah' 'year' 'yeh' 'yell' 'yellow' 'yep' 'yer' 'yest' 'yesterday' 'yet'\n",
            " 'yetund' 'yf' 'yiju' 'ym' 'yo' 'yoga' 'yogasana' 'yor' 'your' 'yr'\n",
            " 'yummi' 'yun' 'yunni' 'yuo' 'yup' 'zed' 'zindgi' 'zoe']\n"
          ]
        }
      ]
    },
    {
      "cell_type": "code",
      "source": [
        "y = pd.get_dummies(messages['label'])\n",
        "print(y)\n",
        "y = y.iloc[:,1].values\n"
      ],
      "metadata": {
        "colab": {
          "base_uri": "https://localhost:8080/"
        },
        "id": "yGuabZjHtNI7",
        "outputId": "6de46718-15fd-48f8-b70e-3761522fcbf9"
      },
      "execution_count": 48,
      "outputs": [
        {
          "output_type": "stream",
          "name": "stdout",
          "text": [
            "      ham  spam\n",
            "0       1     0\n",
            "1       1     0\n",
            "2       0     1\n",
            "3       1     0\n",
            "4       1     0\n",
            "...   ...   ...\n",
            "5567    0     1\n",
            "5568    1     0\n",
            "5569    1     0\n",
            "5570    1     0\n",
            "5571    1     0\n",
            "\n",
            "[5572 rows x 2 columns]\n"
          ]
        }
      ]
    },
    {
      "cell_type": "code",
      "source": [
        "# Train Test Split\n",
        "\n",
        "from sklearn.model_selection import train_test_split\n",
        "X_train , X_test , y_train , y_test = train_test_split(X,y,test_size = 0.20 , random_state = 0)"
      ],
      "metadata": {
        "id": "g-I2zP_Wu_PR"
      },
      "execution_count": 49,
      "outputs": []
    },
    {
      "cell_type": "code",
      "source": [
        "# Training Model using Naive_Bayes Classifier\n",
        "from sklearn.naive_bayes import MultinomialNB\n",
        "spam_detect_model = MultinomialNB().fit(X_train,y_train)"
      ],
      "metadata": {
        "id": "QwTMxvy6vmzC"
      },
      "execution_count": 50,
      "outputs": []
    },
    {
      "cell_type": "code",
      "source": [
        "y_pred = spam_detect_model.predict(X_test)"
      ],
      "metadata": {
        "id": "YxEhbtk7wBZk"
      },
      "execution_count": 51,
      "outputs": []
    },
    {
      "cell_type": "code",
      "source": [
        "print(y_pred)"
      ],
      "metadata": {
        "colab": {
          "base_uri": "https://localhost:8080/"
        },
        "id": "uH1bMUYGwfQf",
        "outputId": "b77a4fa1-ba60-4b40-92f3-2da237306b6e"
      },
      "execution_count": 52,
      "outputs": [
        {
          "output_type": "stream",
          "name": "stdout",
          "text": [
            "[0 1 0 0 0 0 1 0 0 0 0 0 0 0 0 0 1 0 0 0 0 0 0 0 1 0 0 0 0 0 0 0 1 0 0 0 1\n",
            " 0 0 1 0 0 0 0 0 0 0 0 0 1 0 0 0 0 0 0 0 0 0 0 0 0 0 0 0 0 0 0 0 0 0 1 0 1\n",
            " 0 0 0 0 0 0 0 0 0 0 0 0 0 0 0 0 0 0 0 0 0 0 0 0 0 0 0 0 0 0 1 0 0 1 0 0 0\n",
            " 0 0 0 0 0 1 0 0 0 0 0 0 0 1 1 0 0 0 0 0 0 1 0 0 0 0 0 0 0 0 0 0 0 0 0 0 0\n",
            " 0 0 0 0 0 0 0 0 0 0 1 0 0 0 1 1 0 1 0 0 0 0 0 0 0 0 0 0 0 0 0 0 0 1 0 0 0\n",
            " 0 1 0 0 0 0 0 0 0 0 0 0 0 0 0 0 0 1 0 0 0 1 0 0 0 1 0 0 1 0 0 0 0 0 0 1 0\n",
            " 1 0 0 0 1 0 0 0 0 0 0 1 0 0 0 0 0 0 0 0 0 0 0 0 0 0 1 1 0 0 0 0 0 0 0 0 1\n",
            " 0 1 0 0 0 0 0 0 0 0 0 1 0 0 0 0 0 0 0 0 0 0 0 0 0 0 0 0 0 0 0 1 1 0 0 0 0\n",
            " 0 0 0 0 1 0 0 0 0 0 1 0 0 1 0 0 0 0 0 1 0 1 0 0 1 0 0 0 0 0 0 0 0 0 0 1 0\n",
            " 0 0 0 0 0 0 0 0 0 1 0 0 0 0 0 0 0 0 0 0 0 0 0 0 0 0 0 0 0 0 1 0 0 1 1 0 0\n",
            " 0 0 0 1 0 0 0 0 0 0 0 0 0 0 0 0 0 0 0 0 0 0 0 0 0 1 0 1 0 0 1 0 0 0 0 0 0\n",
            " 1 0 0 0 0 0 0 0 0 0 0 0 0 0 0 1 0 0 1 1 0 0 1 1 0 0 1 1 0 0 0 1 0 0 0 0 0\n",
            " 0 1 0 1 0 0 0 0 0 0 0 0 0 0 0 0 0 0 1 0 0 0 0 0 0 0 0 0 0 0 0 0 0 0 0 0 0\n",
            " 0 0 0 0 0 0 1 1 0 0 0 0 0 0 0 0 0 0 1 0 0 0 0 0 1 0 0 0 0 0 0 0 1 0 0 0 0\n",
            " 0 1 0 1 0 0 0 0 0 0 1 0 0 0 0 0 0 1 0 0 0 0 0 0 0 0 0 0 0 0 0 1 0 0 1 0 0\n",
            " 0 0 0 0 0 0 0 0 0 0 0 1 0 0 1 0 0 0 0 1 1 1 0 0 1 0 0 0 0 0 0 0 0 0 1 0 0\n",
            " 0 1 1 0 0 0 0 0 1 0 0 1 0 1 0 0 0 1 0 0 0 0 0 0 0 1 0 0 0 0 0 0 0 1 0 0 0\n",
            " 0 0 0 0 0 0 0 0 0 0 0 0 0 1 0 0 0 0 1 0 0 0 0 0 0 1 1 0 0 0 0 0 0 0 0 0 0\n",
            " 0 1 0 0 0 1 0 0 0 1 0 0 0 0 1 0 0 0 0 0 0 0 0 0 0 1 0 0 0 0 0 0 0 0 0 0 0\n",
            " 1 0 0 0 0 0 0 0 0 1 0 0 0 0 0 0 0 1 1 0 0 0 0 0 0 0 0 0 0 0 0 0 0 0 0 0 0\n",
            " 0 0 0 0 0 0 0 0 0 0 0 0 0 1 0 0 0 0 0 0 0 0 0 0 0 0 0 0 0 0 0 0 0 0 0 1 0\n",
            " 1 0 0 0 0 0 0 0 0 0 0 0 0 1 0 0 0 0 0 1 1 0 0 0 0 0 0 0 0 0 0 1 0 0 0 1 0\n",
            " 0 0 1 0 0 0 0 0 0 0 0 0 1 0 0 0 0 0 0 0 0 0 0 0 0 1 0 0 1 1 0 0 1 0 0 0 0\n",
            " 0 1 0 0 0 0 0 0 1 1 0 0 0 0 0 0 1 0 1 0 0 0 0 1 0 0 0 0 0 1 0 0 0 0 0 0 0\n",
            " 0 0 0 0 0 0 0 0 0 0 0 1 0 0 0 0 0 0 1 0 1 0 0 1 0 0 0 0 0 0 0 1 0 0 1 0 0\n",
            " 0 0 0 1 1 0 1 1 0 0 0 0 1 0 1 0 1 0 0 0 1 0 0 0 0 0 1 0 0 0 0 0 0 0 0 0 0\n",
            " 0 0 0 0 0 0 0 0 1 1 0 0 0 0 0 0 1 0 0 0 0 0 0 0 0 1 0 0 0 0 0 0 0 0 1 0 0\n",
            " 0 0 0 1 0 0 0 0 1 0 0 0 0 0 0 0 0 0 0 0 0 0 0 0 1 0 0 0 0 0 0 0 1 0 0 0 0\n",
            " 0 0 0 1 0 0 0 1 1 0 0 1 0 0 0 0 0 0 0 0 0 0 0 0 0 0 1 0 0 0 0 0 0 0 1 0 1\n",
            " 0 0 0 0 0 0 0 0 1 0 0 1 0 0 0 0 0 0 0 0 0 0 0 1 0 0 0 0 0 0 0 1 1 0 0 0 0\n",
            " 0 0 0 1 0]\n"
          ]
        }
      ]
    },
    {
      "cell_type": "code",
      "source": [
        "print(y_test)"
      ],
      "metadata": {
        "colab": {
          "base_uri": "https://localhost:8080/"
        },
        "id": "pYnRWAwgwidr",
        "outputId": "efa89643-2848-40f0-89fd-1f599927f724"
      },
      "execution_count": 53,
      "outputs": [
        {
          "output_type": "stream",
          "name": "stdout",
          "text": [
            "[0 1 0 0 0 0 1 0 0 0 0 0 0 0 0 0 1 0 0 0 0 0 0 0 1 0 0 0 0 0 0 0 1 0 0 0 1\n",
            " 0 0 1 0 0 0 0 0 0 0 0 0 1 0 0 0 0 0 0 0 0 0 0 0 0 0 0 0 0 0 0 0 0 0 1 0 1\n",
            " 0 0 0 0 0 0 0 0 0 1 0 0 0 0 0 0 0 0 0 0 0 0 0 0 0 0 0 0 0 0 1 0 0 1 0 0 0\n",
            " 0 0 0 0 0 1 0 0 0 0 0 0 0 1 1 0 0 0 0 0 0 1 0 0 0 0 0 0 0 0 0 0 0 0 0 0 0\n",
            " 0 0 0 0 0 0 0 0 0 0 1 0 0 0 1 1 0 1 0 0 0 0 0 0 0 0 0 0 0 0 0 0 0 1 0 0 0\n",
            " 0 1 0 0 0 0 0 0 0 0 0 0 0 0 0 0 0 1 0 0 0 1 0 0 0 1 0 0 1 0 0 0 0 0 0 1 0\n",
            " 1 0 0 0 1 0 0 0 0 0 0 1 0 0 0 0 0 0 0 0 0 0 0 0 0 0 0 1 0 0 0 0 0 0 0 0 1\n",
            " 0 1 0 0 0 0 0 0 0 0 0 1 0 0 0 0 0 0 0 0 0 0 0 0 0 0 0 0 0 0 0 1 1 0 0 0 0\n",
            " 0 0 0 0 1 0 0 0 0 0 1 1 0 1 0 0 0 0 0 1 0 1 0 0 1 0 0 0 0 0 0 0 0 0 0 1 0\n",
            " 0 0 0 0 0 0 0 0 0 1 0 0 0 0 0 0 0 0 0 0 0 0 0 0 0 0 0 0 0 0 1 0 0 1 1 0 0\n",
            " 0 0 0 1 0 0 0 0 0 0 0 0 0 0 0 0 0 0 0 0 0 0 0 0 0 1 0 1 0 0 1 0 0 0 0 0 0\n",
            " 0 0 0 0 0 0 0 0 0 0 0 0 0 0 0 1 0 0 1 1 0 0 1 1 0 0 1 1 0 0 0 1 0 0 0 0 0\n",
            " 0 1 0 1 0 0 0 0 0 0 0 0 0 0 1 0 0 0 1 0 0 0 0 0 0 0 0 0 0 0 0 0 0 0 0 0 0\n",
            " 0 0 0 0 0 0 1 1 0 0 0 0 0 0 0 0 0 0 1 0 0 0 0 0 1 0 0 0 0 0 0 0 1 0 0 0 0\n",
            " 0 1 0 1 0 0 0 0 0 0 1 0 0 0 0 0 0 1 0 0 1 0 0 0 0 0 0 0 0 0 0 1 0 0 1 0 0\n",
            " 0 0 0 0 0 0 0 0 0 0 0 1 0 0 1 0 0 0 0 1 0 1 0 0 1 0 0 0 0 0 0 0 0 0 1 0 0\n",
            " 0 1 1 0 0 0 0 0 1 0 0 1 0 1 0 0 0 1 0 0 0 0 0 0 0 1 0 0 0 0 0 0 0 1 0 0 0\n",
            " 0 0 0 0 0 0 0 0 0 0 0 0 0 1 0 0 0 0 1 0 0 0 0 0 0 1 1 0 0 0 0 0 0 0 0 0 0\n",
            " 0 1 0 0 0 1 0 0 0 1 0 0 0 0 1 0 0 0 0 0 0 0 0 0 0 1 0 0 0 0 0 0 0 0 0 0 0\n",
            " 0 0 0 0 0 0 0 0 0 1 0 0 0 0 0 0 0 1 1 0 0 0 0 0 0 0 0 0 0 0 0 0 0 0 0 0 0\n",
            " 0 0 0 0 0 0 0 0 0 0 0 0 0 1 0 0 0 0 0 0 0 0 0 0 0 0 1 0 0 0 0 0 0 0 0 1 0\n",
            " 1 0 0 0 0 0 0 0 0 0 0 0 0 1 0 0 0 0 0 1 1 0 0 0 0 0 0 0 0 0 0 1 0 0 0 1 0\n",
            " 0 0 1 0 0 0 0 0 0 0 0 0 1 0 0 0 0 0 0 0 0 0 0 0 0 1 0 0 1 1 0 0 1 0 0 0 0\n",
            " 0 1 0 0 0 0 0 0 0 1 0 0 0 0 0 0 1 0 1 0 0 0 0 1 0 0 0 0 1 1 0 0 0 0 0 0 0\n",
            " 0 0 0 0 0 0 0 0 0 0 0 1 0 0 0 0 0 0 1 0 1 0 0 1 0 0 0 0 0 0 0 1 0 0 1 0 0\n",
            " 0 0 0 1 0 0 1 1 0 0 0 0 1 0 1 0 1 0 0 0 1 0 0 0 0 0 1 0 0 0 0 0 0 0 0 0 0\n",
            " 0 0 0 0 0 0 0 0 1 1 0 0 0 0 0 0 0 0 0 0 0 0 0 0 0 1 0 0 1 0 0 0 0 0 1 0 0\n",
            " 0 0 0 1 0 0 0 0 1 0 0 0 0 0 0 0 0 0 0 0 0 0 0 0 1 0 0 0 0 0 0 0 0 0 0 0 0\n",
            " 0 0 0 1 0 0 0 1 1 0 0 1 0 0 0 0 0 0 0 0 0 0 0 0 0 0 1 0 0 0 0 0 0 0 1 0 1\n",
            " 0 0 0 0 0 0 0 0 1 0 0 1 0 0 0 0 0 0 0 0 0 0 0 1 0 0 0 0 0 0 0 1 1 0 0 0 0\n",
            " 0 0 0 1 0]\n"
          ]
        }
      ]
    },
    {
      "cell_type": "code",
      "source": [
        "from sklearn.metrics import confusion_matrix\n",
        "confusion_m = confusion_matrix(y_test,y_pred)\n",
        "print(confusion_m)\n",
        "# 946 + 153 = Correct Predictions\n",
        "# 8 + 7 = wrong Prediction"
      ],
      "metadata": {
        "colab": {
          "base_uri": "https://localhost:8080/"
        },
        "id": "seyfSmXHwoH1",
        "outputId": "16a9aa28-514f-4b63-b157-850ed5b0b5b3"
      },
      "execution_count": 55,
      "outputs": [
        {
          "output_type": "stream",
          "name": "stdout",
          "text": [
            "[[947   8]\n",
            " [  7 153]]\n"
          ]
        }
      ]
    },
    {
      "cell_type": "code",
      "source": [
        "from sklearn.metrics import accuracy_score\n",
        "accuracy = accuracy_score(y_test,y_pred)\n",
        "print(accuracy)"
      ],
      "metadata": {
        "colab": {
          "base_uri": "https://localhost:8080/"
        },
        "id": "Fk75OFQ9xJ4k",
        "outputId": "8ba27582-6c4c-425a-aa60-0f30dc814d5d"
      },
      "execution_count": 57,
      "outputs": [
        {
          "output_type": "stream",
          "name": "stdout",
          "text": [
            "0.9865470852017937\n"
          ]
        }
      ]
    }
  ]
}